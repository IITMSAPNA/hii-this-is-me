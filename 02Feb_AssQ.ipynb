{
 "cells": [
  {
   "cell_type": "code",
   "execution_count": null,
   "id": "7760f6f6-a857-40b6-ad51-65661edcde9f",
   "metadata": {},
   "outputs": [],
   "source": [
    "Q.1> Explain with an example each when to use a for loop and a while loop.\n",
    "Ans> For loops are used when you want to do operations on each member of a sequence,\n",
    "      in order. While loops are used when you need to\n",
    "      operate on the elements out-of-order,access / operate on multiple elements \n",
    "      simultaneously, or loop until some condition changes from True to False. – "
   ]
  },
  {
   "cell_type": "code",
   "execution_count": null,
   "id": "36392526-c1a5-47fa-a6c8-2de6125d6744",
   "metadata": {},
   "outputs": [],
   "source": []
  }
 ],
 "metadata": {
  "kernelspec": {
   "display_name": "Python 3 (ipykernel)",
   "language": "python",
   "name": "python3"
  },
  "language_info": {
   "codemirror_mode": {
    "name": "ipython",
    "version": 3
   },
   "file_extension": ".py",
   "mimetype": "text/x-python",
   "name": "python",
   "nbconvert_exporter": "python",
   "pygments_lexer": "ipython3",
   "version": "3.10.8"
  }
 },
 "nbformat": 4,
 "nbformat_minor": 5
}
